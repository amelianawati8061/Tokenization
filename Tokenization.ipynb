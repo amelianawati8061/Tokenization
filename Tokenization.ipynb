{
  "cells": [
    {
      "cell_type": "markdown",
      "source": [
        "\n",
        "#**TOKENIZATION**"
      ],
      "metadata": {
        "id": "kVYUb-6b4kTt"
      }
    },
    {
      "cell_type": "markdown",
      "source": [
        "##Introduction\n"
      ],
      "metadata": {
        "id": "3WyDGER5-k0a"
      }
    },
    {
      "cell_type": "markdown",
      "source": [
        "Welcome to my GitHub post on Tokenization using the BBC articles full-text and category dataset from Kaggle. \n",
        "\n",
        "In this project, I have explored the process of tokenization and its application in text classification using a popular dataset. Tokenization plays a crucial role in natural language processing tasks by breaking down text into smaller units, such as words or subwords, allowing us to extract meaningful information and perform various analyses.\n",
        "\n",
        "The dataset I utilized contains a collection of articles from different categories, including sport, business, politics, tech, and entertainment. By leveraging tokenization techniques and employing a deep learning model, specifically an LSTM (Long Short-Term Memory) network, I aimed to classify the articles accurately into their respective categories.\n",
        "\n",
        "Throughout this project, I have utilized Python and various libraries such as pandas, scikit-learn, TensorFlow, and Keras. The code provided here demonstrates the step-by-step implementation of tokenization, data preprocessing, model building, and training. Additionally, I have included visualizations to help us gain insights into the model's performance.\n",
        "\n",
        "By sharing this project on GitHub, I hope to provide a valuable resource for those interested in understanding and implementing tokenization techniques in text classification tasks. Whether you are a beginner or have some prior experience in natural language processing, this project can serve as a practical guide to grasp the fundamentals of tokenization and its application using real-world data.\n",
        "\n",
        "Feel free to explore the code, experiment with different parameters, and adapt it to your own projects. I encourage you to engage in discussions and provide feedback for further improvements. Let's dive into the world of tokenization and uncover the power of text analysis!\n",
        "\n",
        "Note: \n",
        "\n",
        "To run the code successfully, please ensure that you have the necessary dependencies installed and have downloaded the BBC articles full-text and category dataset from Kaggle.\n",
        "\n",
        "Happy coding!"
      ],
      "metadata": {
        "id": "777IS8Nx8BYt"
      }
    },
    {
      "cell_type": "markdown",
      "source": [
        "###Importing Libraries and Loading the Dataset"
      ],
      "metadata": {
        "id": "s8ptAuqg-sUP"
      }
    },
    {
      "cell_type": "code",
      "execution_count": null,
      "metadata": {
        "id": "U7LilfEbDa2N"
      },
      "outputs": [],
      "source": [
        "import pandas as pd\n",
        "df = pd.read_csv('/content/bbc-text.csv')"
      ]
    },
    {
      "cell_type": "markdown",
      "source": [
        "We begin by importing the necessary libraries, pandas, and reading the dataset from the 'bbc-text.csv' file."
      ],
      "metadata": {
        "id": "tv3Fo2mG_DMo"
      }
    },
    {
      "cell_type": "markdown",
      "source": [
        "###Checking Value Counts of Categories"
      ],
      "metadata": {
        "id": "GmvgDvdn--Oi"
      }
    },
    {
      "cell_type": "code",
      "execution_count": null,
      "metadata": {
        "colab": {
          "base_uri": "https://localhost:8080/"
        },
        "id": "fdsz-pk9DzC4",
        "outputId": "4fc65087-49ff-4a66-a72b-d7e8e3d1b960"
      },
      "outputs": [
        {
          "output_type": "execute_result",
          "data": {
            "text/plain": [
              "sport            511\n",
              "business         510\n",
              "politics         417\n",
              "tech             401\n",
              "entertainment    386\n",
              "Name: category, dtype: int64"
            ]
          },
          "metadata": {},
          "execution_count": 136
        }
      ],
      "source": [
        "df.category.value_counts()"
      ]
    },
    {
      "cell_type": "markdown",
      "source": [
        "We check the count of each category in the dataset's 'category' column. This helps us understand the distribution of categories in the data."
      ],
      "metadata": {
        "id": "4qbr-ZiZ_UBr"
      }
    },
    {
      "cell_type": "markdown",
      "source": [
        "###One-Hot Encoding the Categories"
      ],
      "metadata": {
        "id": "n75RA_OW_Y1Z"
      }
    },
    {
      "cell_type": "code",
      "execution_count": null,
      "metadata": {
        "id": "83bRDPQPDvnD",
        "colab": {
          "base_uri": "https://localhost:8080/",
          "height": 424
        },
        "outputId": "3f39d551-6c21-4015-ca38-9d7ff8dfd6fb"
      },
      "outputs": [
        {
          "output_type": "execute_result",
          "data": {
            "text/plain": [
              "                                                   text  business  \\\n",
              "0     tv future in the hands of viewers with home th...         0   \n",
              "1     worldcom boss  left books alone  former worldc...         1   \n",
              "2     tigers wary of farrell  gamble  leicester say ...         0   \n",
              "3     yeading face newcastle in fa cup premiership s...         0   \n",
              "4     ocean s twelve raids box office ocean s twelve...         0   \n",
              "...                                                 ...       ...   \n",
              "2220  cars pull down us retail figures us retail sal...         1   \n",
              "2221  kilroy unveils immigration policy ex-chatshow ...         0   \n",
              "2222  rem announce new glasgow concert us band rem h...         0   \n",
              "2223  how political squabbles snowball it s become c...         0   \n",
              "2224  souness delight at euro progress boss graeme s...         0   \n",
              "\n",
              "      entertainment  politics  sport  tech  \n",
              "0                 0         0      0     1  \n",
              "1                 0         0      0     0  \n",
              "2                 0         0      1     0  \n",
              "3                 0         0      1     0  \n",
              "4                 1         0      0     0  \n",
              "...             ...       ...    ...   ...  \n",
              "2220              0         0      0     0  \n",
              "2221              0         1      0     0  \n",
              "2222              1         0      0     0  \n",
              "2223              0         1      0     0  \n",
              "2224              0         0      1     0  \n",
              "\n",
              "[2225 rows x 6 columns]"
            ],
            "text/html": [
              "\n",
              "  <div id=\"df-4a3baeda-f322-48c3-bd7b-adb700e67a8b\">\n",
              "    <div class=\"colab-df-container\">\n",
              "      <div>\n",
              "<style scoped>\n",
              "    .dataframe tbody tr th:only-of-type {\n",
              "        vertical-align: middle;\n",
              "    }\n",
              "\n",
              "    .dataframe tbody tr th {\n",
              "        vertical-align: top;\n",
              "    }\n",
              "\n",
              "    .dataframe thead th {\n",
              "        text-align: right;\n",
              "    }\n",
              "</style>\n",
              "<table border=\"1\" class=\"dataframe\">\n",
              "  <thead>\n",
              "    <tr style=\"text-align: right;\">\n",
              "      <th></th>\n",
              "      <th>text</th>\n",
              "      <th>business</th>\n",
              "      <th>entertainment</th>\n",
              "      <th>politics</th>\n",
              "      <th>sport</th>\n",
              "      <th>tech</th>\n",
              "    </tr>\n",
              "  </thead>\n",
              "  <tbody>\n",
              "    <tr>\n",
              "      <th>0</th>\n",
              "      <td>tv future in the hands of viewers with home th...</td>\n",
              "      <td>0</td>\n",
              "      <td>0</td>\n",
              "      <td>0</td>\n",
              "      <td>0</td>\n",
              "      <td>1</td>\n",
              "    </tr>\n",
              "    <tr>\n",
              "      <th>1</th>\n",
              "      <td>worldcom boss  left books alone  former worldc...</td>\n",
              "      <td>1</td>\n",
              "      <td>0</td>\n",
              "      <td>0</td>\n",
              "      <td>0</td>\n",
              "      <td>0</td>\n",
              "    </tr>\n",
              "    <tr>\n",
              "      <th>2</th>\n",
              "      <td>tigers wary of farrell  gamble  leicester say ...</td>\n",
              "      <td>0</td>\n",
              "      <td>0</td>\n",
              "      <td>0</td>\n",
              "      <td>1</td>\n",
              "      <td>0</td>\n",
              "    </tr>\n",
              "    <tr>\n",
              "      <th>3</th>\n",
              "      <td>yeading face newcastle in fa cup premiership s...</td>\n",
              "      <td>0</td>\n",
              "      <td>0</td>\n",
              "      <td>0</td>\n",
              "      <td>1</td>\n",
              "      <td>0</td>\n",
              "    </tr>\n",
              "    <tr>\n",
              "      <th>4</th>\n",
              "      <td>ocean s twelve raids box office ocean s twelve...</td>\n",
              "      <td>0</td>\n",
              "      <td>1</td>\n",
              "      <td>0</td>\n",
              "      <td>0</td>\n",
              "      <td>0</td>\n",
              "    </tr>\n",
              "    <tr>\n",
              "      <th>...</th>\n",
              "      <td>...</td>\n",
              "      <td>...</td>\n",
              "      <td>...</td>\n",
              "      <td>...</td>\n",
              "      <td>...</td>\n",
              "      <td>...</td>\n",
              "    </tr>\n",
              "    <tr>\n",
              "      <th>2220</th>\n",
              "      <td>cars pull down us retail figures us retail sal...</td>\n",
              "      <td>1</td>\n",
              "      <td>0</td>\n",
              "      <td>0</td>\n",
              "      <td>0</td>\n",
              "      <td>0</td>\n",
              "    </tr>\n",
              "    <tr>\n",
              "      <th>2221</th>\n",
              "      <td>kilroy unveils immigration policy ex-chatshow ...</td>\n",
              "      <td>0</td>\n",
              "      <td>0</td>\n",
              "      <td>1</td>\n",
              "      <td>0</td>\n",
              "      <td>0</td>\n",
              "    </tr>\n",
              "    <tr>\n",
              "      <th>2222</th>\n",
              "      <td>rem announce new glasgow concert us band rem h...</td>\n",
              "      <td>0</td>\n",
              "      <td>1</td>\n",
              "      <td>0</td>\n",
              "      <td>0</td>\n",
              "      <td>0</td>\n",
              "    </tr>\n",
              "    <tr>\n",
              "      <th>2223</th>\n",
              "      <td>how political squabbles snowball it s become c...</td>\n",
              "      <td>0</td>\n",
              "      <td>0</td>\n",
              "      <td>1</td>\n",
              "      <td>0</td>\n",
              "      <td>0</td>\n",
              "    </tr>\n",
              "    <tr>\n",
              "      <th>2224</th>\n",
              "      <td>souness delight at euro progress boss graeme s...</td>\n",
              "      <td>0</td>\n",
              "      <td>0</td>\n",
              "      <td>0</td>\n",
              "      <td>1</td>\n",
              "      <td>0</td>\n",
              "    </tr>\n",
              "  </tbody>\n",
              "</table>\n",
              "<p>2225 rows × 6 columns</p>\n",
              "</div>\n",
              "      <button class=\"colab-df-convert\" onclick=\"convertToInteractive('df-4a3baeda-f322-48c3-bd7b-adb700e67a8b')\"\n",
              "              title=\"Convert this dataframe to an interactive table.\"\n",
              "              style=\"display:none;\">\n",
              "        \n",
              "  <svg xmlns=\"http://www.w3.org/2000/svg\" height=\"24px\"viewBox=\"0 0 24 24\"\n",
              "       width=\"24px\">\n",
              "    <path d=\"M0 0h24v24H0V0z\" fill=\"none\"/>\n",
              "    <path d=\"M18.56 5.44l.94 2.06.94-2.06 2.06-.94-2.06-.94-.94-2.06-.94 2.06-2.06.94zm-11 1L8.5 8.5l.94-2.06 2.06-.94-2.06-.94L8.5 2.5l-.94 2.06-2.06.94zm10 10l.94 2.06.94-2.06 2.06-.94-2.06-.94-.94-2.06-.94 2.06-2.06.94z\"/><path d=\"M17.41 7.96l-1.37-1.37c-.4-.4-.92-.59-1.43-.59-.52 0-1.04.2-1.43.59L10.3 9.45l-7.72 7.72c-.78.78-.78 2.05 0 2.83L4 21.41c.39.39.9.59 1.41.59.51 0 1.02-.2 1.41-.59l7.78-7.78 2.81-2.81c.8-.78.8-2.07 0-2.86zM5.41 20L4 18.59l7.72-7.72 1.47 1.35L5.41 20z\"/>\n",
              "  </svg>\n",
              "      </button>\n",
              "      \n",
              "  <style>\n",
              "    .colab-df-container {\n",
              "      display:flex;\n",
              "      flex-wrap:wrap;\n",
              "      gap: 12px;\n",
              "    }\n",
              "\n",
              "    .colab-df-convert {\n",
              "      background-color: #E8F0FE;\n",
              "      border: none;\n",
              "      border-radius: 50%;\n",
              "      cursor: pointer;\n",
              "      display: none;\n",
              "      fill: #1967D2;\n",
              "      height: 32px;\n",
              "      padding: 0 0 0 0;\n",
              "      width: 32px;\n",
              "    }\n",
              "\n",
              "    .colab-df-convert:hover {\n",
              "      background-color: #E2EBFA;\n",
              "      box-shadow: 0px 1px 2px rgba(60, 64, 67, 0.3), 0px 1px 3px 1px rgba(60, 64, 67, 0.15);\n",
              "      fill: #174EA6;\n",
              "    }\n",
              "\n",
              "    [theme=dark] .colab-df-convert {\n",
              "      background-color: #3B4455;\n",
              "      fill: #D2E3FC;\n",
              "    }\n",
              "\n",
              "    [theme=dark] .colab-df-convert:hover {\n",
              "      background-color: #434B5C;\n",
              "      box-shadow: 0px 1px 3px 1px rgba(0, 0, 0, 0.15);\n",
              "      filter: drop-shadow(0px 1px 2px rgba(0, 0, 0, 0.3));\n",
              "      fill: #FFFFFF;\n",
              "    }\n",
              "  </style>\n",
              "\n",
              "      <script>\n",
              "        const buttonEl =\n",
              "          document.querySelector('#df-4a3baeda-f322-48c3-bd7b-adb700e67a8b button.colab-df-convert');\n",
              "        buttonEl.style.display =\n",
              "          google.colab.kernel.accessAllowed ? 'block' : 'none';\n",
              "\n",
              "        async function convertToInteractive(key) {\n",
              "          const element = document.querySelector('#df-4a3baeda-f322-48c3-bd7b-adb700e67a8b');\n",
              "          const dataTable =\n",
              "            await google.colab.kernel.invokeFunction('convertToInteractive',\n",
              "                                                     [key], {});\n",
              "          if (!dataTable) return;\n",
              "\n",
              "          const docLinkHtml = 'Like what you see? Visit the ' +\n",
              "            '<a target=\"_blank\" href=https://colab.research.google.com/notebooks/data_table.ipynb>data table notebook</a>'\n",
              "            + ' to learn more about interactive tables.';\n",
              "          element.innerHTML = '';\n",
              "          dataTable['output_type'] = 'display_data';\n",
              "          await google.colab.output.renderOutput(dataTable, element);\n",
              "          const docLink = document.createElement('div');\n",
              "          docLink.innerHTML = docLinkHtml;\n",
              "          element.appendChild(docLink);\n",
              "        }\n",
              "      </script>\n",
              "    </div>\n",
              "  </div>\n",
              "  "
            ]
          },
          "metadata": {},
          "execution_count": 137
        }
      ],
      "source": [
        "category = pd.get_dummies(df.category)\n",
        "df_new = pd.concat([df, category], axis=1)\n",
        "df_new = df_new.drop(columns='category')\n",
        "df_new "
      ]
    },
    {
      "cell_type": "markdown",
      "source": [
        "To prepare the data for machine learning algorithms, we perform one-hot encoding on the 'category' column. This creates separate binary columns for each category. The encoded categories are then concatenated with the original dataframe, and the 'category' column is dropped."
      ],
      "metadata": {
        "id": "eo2ipnp__eu_"
      }
    },
    {
      "cell_type": "markdown",
      "source": [
        "###Text and Label Data Extraction"
      ],
      "metadata": {
        "id": "dxtpqmmJQK-e"
      }
    },
    {
      "cell_type": "code",
      "execution_count": null,
      "metadata": {
        "id": "kWhyd8egDyPq"
      },
      "outputs": [],
      "source": [
        "Text = df_new['text'].values\n",
        "label = df_new[['sport', 'business', 'politics', 'tech', 'entertainment']].values"
      ]
    },
    {
      "cell_type": "markdown",
      "source": [
        "By extracting the text and label data from the dataframe, we are separating the input features (text) and the corresponding output labels (categories) into separate variables. This separation enables us to feed the text data into the tokenization and modeling processes, while the label data is used to train and evaluate the classification model accurately."
      ],
      "metadata": {
        "id": "x27OL4m5QJ53"
      }
    },
    {
      "cell_type": "markdown",
      "source": [
        "###Splitting the Data into Training and Testing Sets"
      ],
      "metadata": {
        "id": "aT67rsOgQezf"
      }
    },
    {
      "cell_type": "code",
      "execution_count": null,
      "metadata": {
        "id": "lyYABHOWD1l0"
      },
      "outputs": [],
      "source": [
        "from sklearn.model_selection import train_test_split\n",
        "Text_latih, Text_test, label_latih, label_test = train_test_split(Text, label, test_size=0.2)"
      ]
    },
    {
      "cell_type": "markdown",
      "source": [
        "Let's splitting the text data ('Text') and labels ('label') into training and testing sets. It utilizes the train_test_split function from the scikit-learn library. By specifying test_size=0.2, we set the testing set to be 20% of the total data, while the remaining 80% is used for training. This step is essential in evaluating the model's performance on unseen data and preventing overfitting."
      ],
      "metadata": {
        "id": "B59pRNGZEMDZ"
      }
    },
    {
      "cell_type": "markdown",
      "source": [
        "###Tokenizing and Padding the Text Data"
      ],
      "metadata": {
        "id": "mm_WR2EnAIr0"
      }
    },
    {
      "cell_type": "code",
      "execution_count": null,
      "metadata": {
        "id": "zZEyQhICD4Z1"
      },
      "outputs": [],
      "source": [
        "from tensorflow.keras.preprocessing.text import Tokenizer\n",
        "from tensorflow.keras.preprocessing.sequence import pad_sequences\n",
        " \n",
        "tokenizer = Tokenizer(num_words=5000, oov_token='x')\n",
        "tokenizer.fit_on_texts(Text_latih) \n",
        "tokenizer.fit_on_texts(Text_test)\n",
        " \n",
        "sekuens_latih = tokenizer.texts_to_sequences(Text_latih)\n",
        "sekuens_test = tokenizer.texts_to_sequences(Text_test)\n",
        " \n",
        "padded_latih = pad_sequences(sekuens_latih,\n",
        "padding='post',\n",
        "maxlen=200,\n",
        "truncating='post')\n",
        "padded_test = pad_sequences(sekuens_test,\n",
        "padding='post',\n",
        "maxlen=200,\n",
        "truncating='post')"
      ]
    },
    {
      "cell_type": "markdown",
      "source": [
        "To process the text data for the LSTM model, we use the Tokenizer class from Keras. The text is tokenized, assigning a unique integer index to each word in the vocabulary. The sequences are then padded to have a fixed length of 200 using the pad_sequences function."
      ],
      "metadata": {
        "id": "xIXaxps4ANQv"
      }
    },
    {
      "cell_type": "markdown",
      "source": [
        "###Building the LSTM Model"
      ],
      "metadata": {
        "id": "iI0SHcwhAbgw"
      }
    },
    {
      "cell_type": "code",
      "execution_count": null,
      "metadata": {
        "id": "59ulAJ21D47v"
      },
      "outputs": [],
      "source": [
        "import tensorflow as tf\n",
        "model = tf.keras.Sequential([\n",
        "    tf.keras.layers.Embedding(input_dim=5000, output_dim=32),\n",
        "    tf.keras.layers.LSTM(64),\n",
        "    tf.keras.layers.Dense(512, activation='relu'),\n",
        "    tf.keras.layers.Dropout(0.2),\n",
        "    tf.keras.layers.Dense(256, activation='relu'),\n",
        "    tf.keras.layers.Dropout(0.5),\n",
        "    tf.keras.layers.Dense(5, activation='softmax')\n",
        "])\n",
        "model.compile(loss='categorical_crossentropy',optimizer='adam',metrics=['accuracy'])"
      ]
    },
    {
      "cell_type": "markdown",
      "source": [
        "We define a sequential model using Keras. The model architecture consists of an embedding layer, LSTM layer, and several fully connected (Dense) layers. The model is compiled with the categorical_crossentropy loss function, Adam optimizer, and accuracy metric."
      ],
      "metadata": {
        "id": "IqXu4LsvAhg_"
      }
    },
    {
      "cell_type": "markdown",
      "source": [
        "###Defining a Custom Callback"
      ],
      "metadata": {
        "id": "zBYgmFdTAoC4"
      }
    },
    {
      "cell_type": "code",
      "source": [
        "class myCallback(tf.keras.callbacks.Callback):\n",
        "  def on_epoch_end(self, epoch, logs={}):\n",
        "    if(logs.get('accuracy')>0.90):\n",
        "      print(\"\\nAkurasi telah mencapai >90%!\")\n",
        "      self.model.stop_training = True\n",
        "callbacks = myCallback()"
      ],
      "metadata": {
        "id": "F9rWaLDti4uv"
      },
      "execution_count": null,
      "outputs": []
    },
    {
      "cell_type": "markdown",
      "source": [
        "We define a custom callback class that checks the accuracy after each epoch. If the accuracy surpasses 90%, it prints a message and stops the training process."
      ],
      "metadata": {
        "id": "5ZZSCzW6AtiO"
      }
    },
    {
      "cell_type": "markdown",
      "source": [
        "###Training the Model"
      ],
      "metadata": {
        "id": "dBaLSkVMAxRU"
      }
    },
    {
      "cell_type": "code",
      "execution_count": null,
      "metadata": {
        "colab": {
          "base_uri": "https://localhost:8080/"
        },
        "id": "cXYK4aYmD8S2",
        "outputId": "04efdf11-29b3-4eae-c204-ed25ae544329"
      },
      "outputs": [
        {
          "output_type": "stream",
          "name": "stdout",
          "text": [
            "Epoch 1/30\n",
            "56/56 - 12s - loss: 1.5878 - accuracy: 0.2579 - val_loss: 1.5662 - val_accuracy: 0.2135 - 12s/epoch - 216ms/step\n",
            "Epoch 2/30\n",
            "56/56 - 7s - loss: 1.3205 - accuracy: 0.4343 - val_loss: 1.1137 - val_accuracy: 0.5011 - 7s/epoch - 128ms/step\n",
            "Epoch 3/30\n",
            "56/56 - 8s - loss: 0.8268 - accuracy: 0.6382 - val_loss: 0.8345 - val_accuracy: 0.6742 - 8s/epoch - 145ms/step\n",
            "Epoch 4/30\n",
            "56/56 - 7s - loss: 0.6222 - accuracy: 0.7888 - val_loss: 0.8214 - val_accuracy: 0.6831 - 7s/epoch - 131ms/step\n",
            "Epoch 5/30\n",
            "\n",
            "Akurasi telah mencapai >90%!\n",
            "56/56 - 8s - loss: 0.2392 - accuracy: 0.9303 - val_loss: 0.8274 - val_accuracy: 0.7506 - 8s/epoch - 140ms/step\n"
          ]
        }
      ],
      "source": [
        "num_epochs = 30\n",
        "history = model.fit(padded_latih, label_latih, epochs=num_epochs, callbacks=[callbacks],\n",
        "                    validation_data=(padded_test, label_test), verbose=2)"
      ]
    },
    {
      "cell_type": "markdown",
      "source": [
        "We train the model using the fit method, passing the padded training data, labels, number of epochs, and the defined callback. The model's performance is evaluated on the validation data (padded_test, label_test)."
      ],
      "metadata": {
        "id": "g8YJjl1CA2_b"
      }
    },
    {
      "cell_type": "markdown",
      "source": [
        "###Plotting the Loss and Accuracy"
      ],
      "metadata": {
        "id": "f-GXQIv9Bdpw"
      }
    },
    {
      "cell_type": "markdown",
      "source": [
        "We plot the model's training loss and accuracy over epochs using matplotlib. The loss plot helps visualize how the model's loss decreases over training, while the accuracy plot shows the improvement in accuracy."
      ],
      "metadata": {
        "id": "vaz8Pw81BpYj"
      }
    },
    {
      "cell_type": "code",
      "source": [
        "import matplotlib.pyplot as plt\n",
        "plt.plot(history.history['loss'])\n",
        "plt.title('Model loss')\n",
        "plt.ylabel('Loss')\n",
        "plt.xlabel('Epoch')\n",
        "plt.legend(['Train'], loc='upper right')\n",
        "plt.show()"
      ],
      "metadata": {
        "id": "9r0tgJCwi7OQ",
        "colab": {
          "base_uri": "https://localhost:8080/",
          "height": 472
        },
        "outputId": "c01d28ba-b7f3-4ed5-b56b-703d9dbc816e"
      },
      "execution_count": null,
      "outputs": [
        {
          "output_type": "display_data",
          "data": {
            "text/plain": [
              "<Figure size 640x480 with 1 Axes>"
            ],
            "image/png": "[encoded data removed]"
          },
          "metadata": {}
        }
      ]
    },
    {
      "cell_type": "markdown",
      "source": [
        "The model loss plot, which shows the value of the loss function over epochs, demonstrates how well the model is fitting the training data. As the epochs progress, the loss value decreases, indicating that the model is gradually minimizing the errors between its predicted outputs and the actual labels. This decreasing trend suggests that the model is learning and becoming more effective in capturing the underlying patterns in the data."
      ],
      "metadata": {
        "id": "g72zPmrzQwTa"
      }
    },
    {
      "cell_type": "code",
      "source": [
        "plt.plot(history.history['accuracy'])\n",
        "plt.title('Model accuracy')\n",
        "plt.ylabel('Accuracy')\n",
        "plt.xlabel('Epoch')\n",
        "plt.legend(['Train'], loc='lower right')\n",
        "plt.show()"
      ],
      "metadata": {
        "id": "a7QjsfDei73H",
        "colab": {
          "base_uri": "https://localhost:8080/",
          "height": 472
        },
        "outputId": "dfdda04b-4f5e-4a52-f6ed-ca8b270dac33"
      },
      "execution_count": null,
      "outputs": [
        {
          "output_type": "display_data",
          "data": {
            "text/plain": [
              "<Figure size 640x480 with 1 Axes>"
            ],
            "image/png": "[encoded data removed]"
          },
          "metadata": {}
        }
      ]
    },
    {
      "cell_type": "markdown",
      "source": [
        "On the other hand, the model accuracy plot illustrates the percentage of correctly classified instances by the model over epochs. As the epochs increase, the accuracy value rises, indicating that the model's predictive performance on both the training and validation sets is improving. This increasing trend implies that the model is becoming more accurate in predicting the correct categories for the BBC articles."
      ],
      "metadata": {
        "id": "utdqlba0Qz37"
      }
    },
    {
      "cell_type": "markdown",
      "source": [
        "Dataset Information:\n",
        "#BBC articles fulltext and category\n",
        "Source: https://www.kaggle.com/datasets/yufengdev/bbc-fulltext-and-category"
      ],
      "metadata": {
        "id": "-fNjlYsr3ohB"
      }
    }
  ],
  "metadata": {
    "colab": {
      "provenance": []
    },
    "kernelspec": {
      "display_name": "Python 3",
      "name": "python3"
    },
    "language_info": {
      "name": "python"
    }
  },
  "nbformat": 4,
  "nbformat_minor": 0
}